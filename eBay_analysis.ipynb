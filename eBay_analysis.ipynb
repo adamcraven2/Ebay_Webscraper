{
 "cells": [
  {
   "cell_type": "code",
   "execution_count": 25,
   "id": "97c1247f",
   "metadata": {},
   "outputs": [],
   "source": [
    "import pandas as pd\n",
    "import numpy as np\n",
    "import matplotlib.pyplot as plt"
   ]
  },
  {
   "cell_type": "code",
   "execution_count": 26,
   "id": "7da1a627",
   "metadata": {},
   "outputs": [
    {
     "name": "stdout",
     "output_type": "stream",
     "text": [
      "<class 'pandas.core.frame.DataFrame'>\n",
      "RangeIndex: 121 entries, 0 to 120\n",
      "Data columns (total 8 columns):\n",
      " #   Column       Non-Null Count  Dtype  \n",
      "---  ------       --------------  -----  \n",
      " 0   Title        121 non-null    object \n",
      " 1   Condition    121 non-null    object \n",
      " 2   Price        121 non-null    float64\n",
      " 3   Sale_Date    121 non-null    object \n",
      " 4   Postage      121 non-null    float64\n",
      " 5   Total_Cost   121 non-null    float64\n",
      " 6   Import_Date  121 non-null    object \n",
      " 7   URL          121 non-null    object \n",
      "dtypes: float64(3), object(5)\n",
      "memory usage: 7.7+ KB\n"
     ]
    }
   ],
   "source": [
    "df = pd.read_csv('C:\\\\Users\\\\adamc\\\\Documents\\\\Python Project\\\\Ebay Webscraper\\\\eBayNintendoSwitchOledDataset.csv')\n",
    "df.head(10)\n",
    "df.info()"
   ]
  },
  {
   "cell_type": "code",
   "execution_count": 27,
   "id": "4809f41b",
   "metadata": {},
   "outputs": [
    {
     "name": "stdout",
     "output_type": "stream",
     "text": [
      "Condition\n",
      "Brand new              305.269655\n",
      "Opened – never used    254.734444\n",
      "Pre-owned              250.145679\n",
      "Parts only             114.330000\n",
      "Name: Total_Cost, dtype: float64\n"
     ]
    }
   ],
   "source": [
    "# Get the average price per condition\n",
    "condition = df.groupby('Condition')['Total_Cost'].mean().sort_values(ascending=False)\n",
    "print(condition)"
   ]
  },
  {
   "cell_type": "code",
   "execution_count": 37,
   "id": "dcf17e40",
   "metadata": {},
   "outputs": [
    {
     "ename": "NameError",
     "evalue": "name 'condtion' is not defined",
     "output_type": "error",
     "traceback": [
      "\u001b[1;31m---------------------------------------------------------------------------\u001b[0m",
      "\u001b[1;31mNameError\u001b[0m                                 Traceback (most recent call last)",
      "\u001b[1;32m~\\AppData\\Local\\Temp/ipykernel_3680/4036269744.py\u001b[0m in \u001b[0;36m<module>\u001b[1;34m\u001b[0m\n\u001b[1;32m----> 1\u001b[1;33m \u001b[0mplt\u001b[0m\u001b[1;33m.\u001b[0m\u001b[0mbar\u001b[0m\u001b[1;33m(\u001b[0m\u001b[0mcondtion\u001b[0m\u001b[1;33m)\u001b[0m\u001b[1;33m\u001b[0m\u001b[1;33m\u001b[0m\u001b[0m\n\u001b[0m\u001b[0;32m      2\u001b[0m \u001b[0mplt\u001b[0m\u001b[1;33m.\u001b[0m\u001b[0mshow\u001b[0m\u001b[1;33m(\u001b[0m\u001b[1;33m)\u001b[0m\u001b[1;33m\u001b[0m\u001b[1;33m\u001b[0m\u001b[0m\n",
      "\u001b[1;31mNameError\u001b[0m: name 'condtion' is not defined"
     ]
    }
   ],
   "source": [
    "plt.bar(condtion)\n",
    "plt.show()"
   ]
  },
  {
   "cell_type": "code",
   "execution_count": null,
   "id": "ecc024bc",
   "metadata": {},
   "outputs": [],
   "source": []
  }
 ],
 "metadata": {
  "kernelspec": {
   "display_name": "Python 3 (ipykernel)",
   "language": "python",
   "name": "python3"
  },
  "language_info": {
   "codemirror_mode": {
    "name": "ipython",
    "version": 3
   },
   "file_extension": ".py",
   "mimetype": "text/x-python",
   "name": "python",
   "nbconvert_exporter": "python",
   "pygments_lexer": "ipython3",
   "version": "3.9.7"
  }
 },
 "nbformat": 4,
 "nbformat_minor": 5
}
