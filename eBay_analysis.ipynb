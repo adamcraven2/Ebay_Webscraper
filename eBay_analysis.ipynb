{
 "cells": [
  {
   "cell_type": "code",
   "execution_count": 1,
   "id": "97c1247f",
   "metadata": {},
   "outputs": [],
   "source": [
    "import pandas as pd\n",
    "import numpy as np\n",
    "import matplotlib.pyplot as plt"
   ]
  },
  {
   "cell_type": "code",
   "execution_count": 2,
   "id": "7da1a627",
   "metadata": {},
   "outputs": [
    {
     "data": {
      "text/html": [
       "<div>\n",
       "<style scoped>\n",
       "    .dataframe tbody tr th:only-of-type {\n",
       "        vertical-align: middle;\n",
       "    }\n",
       "\n",
       "    .dataframe tbody tr th {\n",
       "        vertical-align: top;\n",
       "    }\n",
       "\n",
       "    .dataframe thead th {\n",
       "        text-align: right;\n",
       "    }\n",
       "</style>\n",
       "<table border=\"1\" class=\"dataframe\">\n",
       "  <thead>\n",
       "    <tr style=\"text-align: right;\">\n",
       "      <th></th>\n",
       "      <th>Title</th>\n",
       "      <th>Condition</th>\n",
       "      <th>Price</th>\n",
       "      <th>Sale_Date</th>\n",
       "      <th>Postage</th>\n",
       "      <th>Total_Cost</th>\n",
       "      <th>Import_Date</th>\n",
       "      <th>URL</th>\n",
       "    </tr>\n",
       "  </thead>\n",
       "  <tbody>\n",
       "    <tr>\n",
       "      <th>0</th>\n",
       "      <td>Nintendo Switch OLED Model HEG-001 Handheld Co...</td>\n",
       "      <td>Pre-owned</td>\n",
       "      <td>205.00</td>\n",
       "      <td>4 Mar 2023</td>\n",
       "      <td>6.85</td>\n",
       "      <td>211.85</td>\n",
       "      <td>2023-03-07</td>\n",
       "      <td>https://www.ebay.co.uk/itm/314424539226?epid=9...</td>\n",
       "    </tr>\n",
       "    <tr>\n",
       "      <th>1</th>\n",
       "      <td>Nintendo Switch OLED Model HEG-001 Handheld Co...</td>\n",
       "      <td>Opened – never used</td>\n",
       "      <td>255.00</td>\n",
       "      <td>7 Mar 2023</td>\n",
       "      <td>6.85</td>\n",
       "      <td>261.85</td>\n",
       "      <td>2023-03-07</td>\n",
       "      <td>https://www.ebay.co.uk/itm/275726272135?epid=5...</td>\n",
       "    </tr>\n",
       "    <tr>\n",
       "      <th>2</th>\n",
       "      <td>Nintendo Switch OLED Model HEG-001 Handheld Co...</td>\n",
       "      <td>Brand new</td>\n",
       "      <td>267.52</td>\n",
       "      <td>7 Mar 2023</td>\n",
       "      <td>6.85</td>\n",
       "      <td>274.37</td>\n",
       "      <td>2023-03-07</td>\n",
       "      <td>https://www.ebay.co.uk/itm/285172606715?epid=5...</td>\n",
       "    </tr>\n",
       "    <tr>\n",
       "      <th>3</th>\n",
       "      <td>Nintendo Switch OLED Model HEG-001 Handheld Co...</td>\n",
       "      <td>Pre-owned</td>\n",
       "      <td>225.00</td>\n",
       "      <td>7 Mar 2023</td>\n",
       "      <td>6.85</td>\n",
       "      <td>231.85</td>\n",
       "      <td>2023-03-07</td>\n",
       "      <td>https://www.ebay.co.uk/itm/144965880307?epid=5...</td>\n",
       "    </tr>\n",
       "    <tr>\n",
       "      <th>4</th>\n",
       "      <td>LOT OF 2 BRAND NEW NINTENDO SWITCH CONSOLE WIT...</td>\n",
       "      <td>Brand new</td>\n",
       "      <td>498.74</td>\n",
       "      <td>7 Mar 2023</td>\n",
       "      <td>81.23</td>\n",
       "      <td>579.97</td>\n",
       "      <td>2023-03-07</td>\n",
       "      <td>https://www.ebay.co.uk/itm/295549093764?epid=1...</td>\n",
       "    </tr>\n",
       "  </tbody>\n",
       "</table>\n",
       "</div>"
      ],
      "text/plain": [
       "                                               Title            Condition  \\\n",
       "0  Nintendo Switch OLED Model HEG-001 Handheld Co...            Pre-owned   \n",
       "1  Nintendo Switch OLED Model HEG-001 Handheld Co...  Opened – never used   \n",
       "2  Nintendo Switch OLED Model HEG-001 Handheld Co...            Brand new   \n",
       "3  Nintendo Switch OLED Model HEG-001 Handheld Co...            Pre-owned   \n",
       "4  LOT OF 2 BRAND NEW NINTENDO SWITCH CONSOLE WIT...            Brand new   \n",
       "\n",
       "    Price   Sale_Date  Postage  Total_Cost Import_Date  \\\n",
       "0  205.00  4 Mar 2023     6.85      211.85  2023-03-07   \n",
       "1  255.00  7 Mar 2023     6.85      261.85  2023-03-07   \n",
       "2  267.52  7 Mar 2023     6.85      274.37  2023-03-07   \n",
       "3  225.00  7 Mar 2023     6.85      231.85  2023-03-07   \n",
       "4  498.74  7 Mar 2023    81.23      579.97  2023-03-07   \n",
       "\n",
       "                                                 URL  \n",
       "0  https://www.ebay.co.uk/itm/314424539226?epid=9...  \n",
       "1  https://www.ebay.co.uk/itm/275726272135?epid=5...  \n",
       "2  https://www.ebay.co.uk/itm/285172606715?epid=5...  \n",
       "3  https://www.ebay.co.uk/itm/144965880307?epid=5...  \n",
       "4  https://www.ebay.co.uk/itm/295549093764?epid=1...  "
      ]
     },
     "execution_count": 2,
     "metadata": {},
     "output_type": "execute_result"
    }
   ],
   "source": [
    "df = pd.read_csv('eBayNintendoSwitchOledDataset.csv')\n",
    "df.head(5)"
   ]
  },
  {
   "cell_type": "code",
   "execution_count": 3,
   "id": "4809f41b",
   "metadata": {},
   "outputs": [
    {
     "name": "stdout",
     "output_type": "stream",
     "text": [
      "Condition\n",
      "New (other)            379.640000\n",
      "Brand new              292.843571\n",
      "Pre-owned              251.223445\n",
      "Opened – never used    241.608750\n",
      "Parts only             141.216667\n",
      "Name: Total_Cost, dtype: float64\n"
     ]
    }
   ],
   "source": [
    "# Get the average price per condition\n",
    "condition = df.groupby('Condition')['Total_Cost'].mean().sort_values(ascending=False)\n",
    "\n",
    "print(condition)"
   ]
  },
  {
   "cell_type": "code",
   "execution_count": 4,
   "id": "1ec33090",
   "metadata": {},
   "outputs": [
    {
     "name": "stdout",
     "output_type": "stream",
     "text": [
      "Condition\n",
      "Brand new               42\n",
      "New (other)              1\n",
      "Opened – never used     16\n",
      "Parts only               3\n",
      "Pre-owned              119\n",
      "Name: Title, dtype: int64\n"
     ]
    }
   ],
   "source": [
    "conditionCount = df.groupby('Condition')['Title'].count()\n",
    "\n",
    "print(conditionCount)"
   ]
  },
  {
   "cell_type": "code",
   "execution_count": 5,
   "id": "dcf17e40",
   "metadata": {},
   "outputs": [
    {
     "data": {
      "image/png": "[encoded data removed]",
      "text/plain": [
       "<Figure size 720x432 with 1 Axes>"
      ]
     },
     "metadata": {
      "needs_background": "light"
     },
     "output_type": "display_data"
    }
   ],
   "source": [
    "myColors = ['red']#, 'green', 'indigo', 'blue', 'pink']\n",
    "condition.plot(kind='bar', title='Average Price by Condition', ylabel='Average Price', xlabel='Condition',\n",
    "               figsize=(10,6), color=myColors)\n",
    "\n",
    "conditionCount.plot(kind='line', marker='*', color='black', ms=10)\n",
    "plt.show()"
   ]
  },
  {
   "cell_type": "code",
   "execution_count": null,
   "id": "ecc024bc",
   "metadata": {},
   "outputs": [],
   "source": []
  }
 ],
 "metadata": {
  "kernelspec": {
   "display_name": "Python 3 (ipykernel)",
   "language": "python",
   "name": "python3"
  },
  "language_info": {
   "codemirror_mode": {
    "name": "ipython",
    "version": 3
   },
   "file_extension": ".py",
   "mimetype": "text/x-python",
   "name": "python",
   "nbconvert_exporter": "python",
   "pygments_lexer": "ipython3",
   "version": "3.9.7"
  }
 },
 "nbformat": 4,
 "nbformat_minor": 5
}
